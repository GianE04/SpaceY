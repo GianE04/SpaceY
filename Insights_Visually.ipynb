{
 "cells": [
  {
   "cell_type": "markdown",
   "metadata": {},
   "source": [
    "Finding Insights Visually\n",
    "Now with the dashboard completed, you should be able to use it to analyze SpaceX launch data, and answer the following questions:\n",
    "\n",
    "Which site has the largest successful launches?\n",
    "KSC LC-39A\n",
    "\n",
    "Which site has the highest launch success rate?\n",
    "KSC LC-39A\n",
    "\n",
    "Which payload range(s) has the highest launch success rate?\n",
    "2490-5300 kg\n",
    "\n",
    "Which payload range(s) has the lowest launch success rate?\n",
    "5600-6761 kg\n",
    "\n",
    "Which F9 Booster version (v1.0, v1.1, FT, B4, B5, etc.) has the highest\n",
    "launch success rate?\n",
    "B4"
   ]
  },
  {
   "cell_type": "markdown",
   "metadata": {},
   "source": []
  }
 ],
 "metadata": {
  "language_info": {
   "name": "python"
  }
 },
 "nbformat": 4,
 "nbformat_minor": 2
}
